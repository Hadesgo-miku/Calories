{
 "cells": [
  {
   "cell_type": "code",
   "execution_count": 1,
   "metadata": {},
   "outputs": [],
   "source": [
    "import numpy as np\n",
    "import pandas as pd\n",
    "import scipy\n",
    "import seaborn as sns"
   ]
  },
  {
   "cell_type": "code",
   "execution_count": 2,
   "metadata": {},
   "outputs": [
    {
     "name": "stdout",
     "output_type": "stream",
     "text": [
      "<class 'pandas.core.frame.DataFrame'>\n",
      "RangeIndex: 750000 entries, 0 to 749999\n",
      "Data columns (total 10 columns):\n",
      " #   Column      Non-Null Count   Dtype  \n",
      "---  ------      --------------   -----  \n",
      " 0   Unnamed: 0  750000 non-null  int64  \n",
      " 1   id          750000 non-null  int64  \n",
      " 2   Sex         750000 non-null  int64  \n",
      " 3   Age         750000 non-null  int64  \n",
      " 4   Height      750000 non-null  float64\n",
      " 5   Weight      750000 non-null  float64\n",
      " 6   Duration    750000 non-null  float64\n",
      " 7   Heart_Rate  750000 non-null  float64\n",
      " 8   Body_Temp   750000 non-null  float64\n",
      " 9   Calories    750000 non-null  float64\n",
      "dtypes: float64(6), int64(4)\n",
      "memory usage: 57.2 MB\n"
     ]
    }
   ],
   "source": [
    "df=pd.read_csv('train.csv')\n",
    "df.info()"
   ]
  },
  {
   "cell_type": "markdown",
   "metadata": {},
   "source": [
    "## 特征说明\n",
    "id 记录编号或用户编号\n",
    "Sex 性别 0为男 1为女\n",
    "Age 年龄\n",
    "Height 身高（单位为 cm ）\n",
    "Weight 体重（单位为 kg）\n",
    "Duration  运动持续时间（分钟）\n",
    "Heart_Rate 运动时的心率（BPM，心跳次数/分钟）\n",
    "Body_Temp 运动时的体温（单位为 摄氏度 ）\n",
    "Calories 运动过程中消耗的热量（通常以千卡 kcal 为单位）"
   ]
  },
  {
   "cell_type": "markdown",
   "metadata": {},
   "source": [
    "## 绘制相关热图"
   ]
  },
  {
   "cell_type": "code",
   "execution_count": null,
   "metadata": {},
   "outputs": [],
   "source": []
  }
 ],
 "metadata": {
  "language_info": {
   "name": "python"
  }
 },
 "nbformat": 4,
 "nbformat_minor": 2
}
